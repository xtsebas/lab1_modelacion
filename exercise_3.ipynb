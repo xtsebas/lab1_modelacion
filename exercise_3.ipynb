{
 "cells": [
  {
   "cell_type": "code",
   "execution_count": 1,
   "id": "6c2e23e8",
   "metadata": {},
   "outputs": [
    {
     "data": {
      "text/plain": [
       "A JuMP Model\n",
       "├ solver: HiGHS\n",
       "├ objective_sense: FEASIBILITY_SENSE\n",
       "├ num_variables: 0\n",
       "├ num_constraints: 0\n",
       "└ Names registered in the model: none"
      ]
     },
     "metadata": {},
     "output_type": "display_data"
    }
   ],
   "source": [
    "import Pkg\n",
    "using JuMP\n",
    "using HiGHS\n",
    "\n",
    "model = Model(HiGHS.Optimizer)\n"
   ]
  },
  {
   "cell_type": "code",
   "execution_count": 2,
   "id": "c567ec34",
   "metadata": {},
   "outputs": [
    {
     "data": {
      "text/plain": [
       "Dict{Int64, Vector{Int64}} with 6 entries:\n",
       "  5 => [5, 6]\n",
       "  4 => [4, 5]\n",
       "  6 => [6, 1]\n",
       "  2 => [2, 3]\n",
       "  3 => [3, 4]\n",
       "  1 => [1, 2]"
      ]
     },
     "metadata": {},
     "output_type": "display_data"
    }
   ],
   "source": [
    "shifts    = 1:6\n",
    "intervals = 1:6\n",
    "\n",
    "demand = Dict(\n",
    "    1 =>  4,   # 00:00–04:00\n",
    "    2 =>  8,   # 04:00–08:00\n",
    "    3 => 10,   # 08:00–12:00\n",
    "    4 =>  7,   # 12:00–16:00\n",
    "    5 => 12,   # 16:00–20:00\n",
    "    6 =>  4    # 20:00–24:00\n",
    ")\n",
    "\n",
    "coverage = Dict(\n",
    "    1 => [1, 2],\n",
    "    2 => [2, 3],\n",
    "    3 => [3, 4],\n",
    "    4 => [4, 5],\n",
    "    5 => [5, 6],\n",
    "    6 => [6, 1] \n",
    ")\n"
   ]
  },
  {
   "cell_type": "code",
   "execution_count": 3,
   "id": "9c7bfa49",
   "metadata": {},
   "outputs": [
    {
     "data": {
      "text/plain": [
       "1-dimensional DenseAxisArray{VariableRef,1,...} with index sets:\n",
       "    Dimension 1, 1:6\n",
       "And data, a 6-element Vector{VariableRef}:\n",
       " x[1]\n",
       " x[2]\n",
       " x[3]\n",
       " x[4]\n",
       " x[5]\n",
       " x[6]"
      ]
     },
     "metadata": {},
     "output_type": "display_data"
    }
   ],
   "source": [
    "@variable(model, x[shifts] >= 0, Int)\n"
   ]
  },
  {
   "cell_type": "code",
   "execution_count": 4,
   "id": "d449d30a",
   "metadata": {},
   "outputs": [
    {
     "data": {
      "text/plain": [
       "1-dimensional DenseAxisArray{ConstraintRef{Model, MathOptInterface.ConstraintIndex{MathOptInterface.ScalarAffineFunction{Float64}, MathOptInterface.GreaterThan{Float64}}, ScalarShape},1,...} with index sets:\n",
       "    Dimension 1, 1:6\n",
       "And data, a 6-element Vector{ConstraintRef{Model, MathOptInterface.ConstraintIndex{MathOptInterface.ScalarAffineFunction{Float64}, MathOptInterface.GreaterThan{Float64}}, ScalarShape}}:\n",
       " x[1] + x[6] >= 4\n",
       " x[1] + x[2] >= 8\n",
       " x[2] + x[3] >= 10\n",
       " x[3] + x[4] >= 7\n",
       " x[4] + x[5] >= 12\n",
       " x[5] + x[6] >= 4"
      ]
     },
     "metadata": {},
     "output_type": "display_data"
    }
   ],
   "source": [
    "@constraint(model, [j in intervals], \n",
    "    sum(x[i] for i in shifts if j in coverage[i]) >= demand[j]\n",
    ")\n"
   ]
  },
  {
   "cell_type": "code",
   "execution_count": 5,
   "id": "c7170e48",
   "metadata": {},
   "outputs": [
    {
     "name": "stdout",
     "output_type": "stream",
     "text": [
      "Running HiGHS 1.11.0 (git hash: 364c83a51e): Copyright (c) 2025 HiGHS under MIT licence terms\n",
      "MIP  has 6 rows; 6 cols; 12 nonzeros; 6 integer variables (0 binary)\n",
      "Coefficient ranges:\n",
      "  Matrix [1e+00, 1e+00]\n",
      "  Cost   [1e+00, 1e+00]\n",
      "  Bound  [0e+00, 0e+00]\n",
      "  RHS    [4e+00, 1e+01]\n",
      "Presolving model\n",
      "6 rows, 6 cols, 12 nonzeros  0s\n",
      "6 rows, 6 cols, 12 nonzeros  0s\n",
      "Objective function is integral with scale 1\n",
      "\n",
      "Solving MIP model with:\n",
      "   6 rows\n",
      "   6 cols (0 binary, 6 integer, 0 implied int., 0 continuous, 0 domain fixed)\n",
      "   12 nonzeros\n",
      "\n",
      "Src: B => Branching; C => Central rounding; F => Feasibility pump; J => Feasibility jump;\n",
      "     H => Heuristic; L => Sub-MIP; P => Empty MIP; R => Randomized rounding; Z => ZI Round;\n",
      "     I => Shifting; S => Solve LP; T => Evaluate node; U => Unbounded; X => User solution;\n",
      "     z => Trivial zero; l => Trivial lower; u => Trivial upper; p => Trivial point\n",
      "\n",
      "        Nodes      |    B&B Tree     |            Objective Bounds              |  Dynamic Constraints |       Work      \n",
      "Src  Proc. InQueue |  Leaves   Expl. | BestBound       BestSol              Gap |   Cuts   InLp Confl. | LpIters     Time\n",
      "\n",
      " J       0       0         0   0.00%   -inf            26                 Large        0      0      0         0     0.0s\n",
      "         1       0         1 100.00%   26              26                 0.00%        0      0      0         5     0.0s\n",
      "\n",
      "Solving report\n",
      "  Status            Optimal\n",
      "  Primal bound      26\n",
      "  Dual bound        26\n",
      "  Gap               0% (tolerance: 0.01%)\n",
      "  P-D integral      0.00360703468323\n",
      "  Solution status   feasible\n",
      "                    26 (objective)\n",
      "                    0 (bound viol.)\n",
      "                    0 (int. viol.)\n",
      "                    0 (row viol.)\n",
      "  Timing            0.02 (total)\n",
      "                    0.00 (presolve)\n",
      "                    0.00 (solve)\n",
      "                    0.00 (postsolve)\n",
      "  Max sub-MIP depth 0\n",
      "  Nodes             1\n",
      "  Repair LPs        0 (0 feasible; 0 iterations)\n",
      "  LP iterations     5 (total)\n",
      "                    0 (strong br.)\n",
      "                    0 (separation)\n",
      "                    0 (heuristics)\n",
      "Número mínimo de autobuses: 26.0\n",
      "Turno 1 → 4 autobuses\n",
      "Turno 2 → 8 autobuses\n",
      "Turno 3 → 2 autobuses\n",
      "Turno 4 → 7 autobuses\n",
      "Turno 5 → 5 autobuses\n",
      "Turno 6 → 0 autobuses\n"
     ]
    }
   ],
   "source": [
    "\n",
    "@objective(model, Min, sum(x[i] for i in shifts))\n",
    "\n",
    "optimize!(model)\n",
    "\n",
    "println(\"Número mínimo de autobuses: \", objective_value(model))\n",
    "for i in shifts\n",
    "    println(\"Turno $i → \", Int(value(x[i])), \" autobuses\")\n",
    "end\n"
   ]
  }
 ],
 "metadata": {
  "kernelspec": {
   "display_name": "Julia 1.11.6",
   "language": "julia",
   "name": "julia-1.11"
  },
  "language_info": {
   "file_extension": ".jl",
   "mimetype": "application/julia",
   "name": "julia",
   "version": "1.11.6"
  }
 },
 "nbformat": 4,
 "nbformat_minor": 5
}
