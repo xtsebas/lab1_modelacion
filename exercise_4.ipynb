{
 "cells": [
  {
   "cell_type": "code",
   "execution_count": 2,
   "id": "5e6666c5",
   "metadata": {},
   "outputs": [
    {
     "ename": "ModuleNotFoundError",
     "evalue": "No module named 'pulp'",
     "output_type": "error",
     "traceback": [
      "\u001b[1;31m---------------------------------------------------------------------------\u001b[0m",
      "\u001b[1;31mModuleNotFoundError\u001b[0m                       Traceback (most recent call last)",
      "Cell \u001b[1;32mIn[2], line 1\u001b[0m\n\u001b[1;32m----> 1\u001b[0m \u001b[38;5;28;01mimport\u001b[39;00m \u001b[38;5;21;01mpulp\u001b[39;00m\n\u001b[0;32m      3\u001b[0m \u001b[38;5;66;03m# Crear el problema: maximización\u001b[39;00m\n\u001b[0;32m      4\u001b[0m prob \u001b[38;5;241m=\u001b[39m pulp\u001b[38;5;241m.\u001b[39mLpProblem(\u001b[38;5;124m\"\u001b[39m\u001b[38;5;124mMaximizar_Z\u001b[39m\u001b[38;5;124m\"\u001b[39m, pulp\u001b[38;5;241m.\u001b[39mLpMaximize)\n",
      "\u001b[1;31mModuleNotFoundError\u001b[0m: No module named 'pulp'"
     ]
    }
   ],
   "source": [
    "import pulp\n",
    "\n",
    "# Crear el problema: maximización\n",
    "prob = pulp.LpProblem(\"Maximizar_Z\", pulp.LpMaximize)\n",
    "\n",
    "# Definir las variables\n",
    "x1 = pulp.LpVariable(\"x1\", lowBound=0)\n",
    "x2 = pulp.LpVariable(\"x2\", lowBound=0)\n",
    "x3 = pulp.LpVariable(\"x3\", lowBound=0)\n",
    "x4 = pulp.LpVariable(\"x4\", lowBound=0)\n",
    "\n",
    "# Función objetivo\n",
    "prob += x1 + x2 + 3*x3 + 2*x4, \"Z\"\n",
    "\n",
    "# Restricciones\n",
    "prob += x1 + 2*x2 - 3*x3 + 5*x4 <= 4\n",
    "prob += 5*x1 - 2*x2 + 6*x4 <= 8\n",
    "prob += 2*x1 + 3*x2 - 2*x3 + 3*x4 <= 3\n",
    "prob += -x1 + x3 + 2*x4 <= 0\n",
    "\n",
    "# Resolver el problema con el solver predeterminado\n",
    "prob.solve()\n",
    "\n",
    "# Mostrar resultados\n",
    "print(\"Estado:\", pulp.LpStatus[prob.status])\n",
    "print(\"✅ Solución óptima encontrada:\")\n",
    "for v in prob.variables():\n",
    "    print(f\"{v.name} = {v.varValue}\")\n",
    "print(f\"Valor óptimo de Z = {pulp.value(prob.objective)}\")\n"
   ]
  }
 ],
 "metadata": {
  "kernelspec": {
   "display_name": "Python 3",
   "language": "python",
   "name": "python3"
  },
  "language_info": {
   "codemirror_mode": {
    "name": "ipython",
    "version": 3
   },
   "file_extension": ".py",
   "mimetype": "text/x-python",
   "name": "python",
   "nbconvert_exporter": "python",
   "pygments_lexer": "ipython3",
   "version": "3.12.2"
  }
 },
 "nbformat": 4,
 "nbformat_minor": 5
}
