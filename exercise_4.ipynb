{
 "cells": [
  {
   "cell_type": "code",
   "execution_count": 1,
   "id": "5e6666c5",
   "metadata": {},
   "outputs": [
    {
     "name": "stdout",
     "output_type": "stream",
     "text": [
      "Estado: Optimal\n",
      "✅ Solución óptima encontrada:\n",
      "x1 = 2.0\n",
      "x2 = 1.0\n",
      "x3 = 2.0\n",
      "x4 = 0.0\n",
      "Valor óptimo de Z = 9.0\n"
     ]
    }
   ],
   "source": [
    "import pulp\n",
    "\n",
    "# Crear el problema: maximización\n",
    "prob = pulp.LpProblem(\"Maximizar_Z\", pulp.LpMaximize)\n",
    "\n",
    "# Definir las variables\n",
    "x1 = pulp.LpVariable(\"x1\", lowBound=0)\n",
    "x2 = pulp.LpVariable(\"x2\", lowBound=0)\n",
    "x3 = pulp.LpVariable(\"x3\", lowBound=0)\n",
    "x4 = pulp.LpVariable(\"x4\", lowBound=0)\n",
    "\n",
    "# Función objetivo\n",
    "prob += x1 + x2 + 3*x3 + 2*x4, \"Z\"\n",
    "\n",
    "# Restricciones\n",
    "prob += x1 + 2*x2 - 3*x3 + 5*x4 <= 4\n",
    "prob += 5*x1 - 2*x2 + 6*x4 <= 8\n",
    "prob += 2*x1 + 3*x2 - 2*x3 + 3*x4 <= 3\n",
    "prob += -x1 + x3 + 2*x4 <= 0\n",
    "\n",
    "# Resolver el problema con el solver predeterminado\n",
    "prob.solve()\n",
    "\n",
    "# Mostrar resultados\n",
    "print(\"Estado:\", pulp.LpStatus[prob.status])\n",
    "print(\"✅ Solución óptima encontrada:\")\n",
    "for v in prob.variables():\n",
    "    print(f\"{v.name} = {v.varValue}\")\n",
    "print(f\"Valor óptimo de Z = {pulp.value(prob.objective)}\")\n"
   ]
  }
 ],
 "metadata": {
  "kernelspec": {
   "display_name": "Python 3",
   "language": "python",
   "name": "python3"
  },
  "language_info": {
   "codemirror_mode": {
    "name": "ipython",
    "version": 3
   },
   "file_extension": ".py",
   "mimetype": "text/x-python",
   "name": "python",
   "nbconvert_exporter": "python",
   "pygments_lexer": "ipython3",
   "version": "3.12.2"
  }
 },
 "nbformat": 4,
 "nbformat_minor": 5
}
