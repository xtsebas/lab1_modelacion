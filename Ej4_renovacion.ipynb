{
 "cells": [
  {
   "cell_type": "code",
   "execution_count": 10,
   "id": "4b7a7ad1",
   "metadata": {},
   "outputs": [],
   "source": [
    "using Pkg\n",
    "using JuMP\n",
    "using HiGHS\n",
    "using Ipopt\n",
    "using Optimization"
   ]
  },
  {
   "cell_type": "code",
   "execution_count": 13,
   "id": "3c82f26b",
   "metadata": {},
   "outputs": [
    {
     "data": {
      "text/plain": [
       "4-element Vector{Float64}:\n",
       " 0.18\n",
       " 0.28\n",
       " 0.4\n",
       " 0.5"
      ]
     },
     "metadata": {},
     "output_type": "display_data"
    }
   ],
   "source": [
    "# ------------------ Parámetros ---------------------------\n",
    "A = 300 * 0.25 * 0.85                # Acres utilizables\n",
    "F = 15_000_000.0                     # Financiamiento máximo\n",
    "t = [1000.0, 1900.0, 2700.0, 3400.0] # Impuesto por unidad\n",
    "c = [50_000.0, 70_000.0, 130_000.0, 160_000.0] # Costos\n",
    "a = [0.18, 0.28, 0.40, 0.50]         # Área por unidad"
   ]
  },
  {
   "cell_type": "markdown",
   "id": "54cf4c4d",
   "metadata": {},
   "source": [
    "## Variables continuas"
   ]
  },
  {
   "cell_type": "code",
   "execution_count": 14,
   "id": "f067e546",
   "metadata": {},
   "outputs": [
    {
     "name": "stdout",
     "output_type": "stream",
     "text": [
      "Running HiGHS 1.11.0 (git hash: 364c83a51e): Copyright (c) 2025 HiGHS under MIT licence terms\n",
      "LP   has 5 rows; 4 cols; 20 nonzeros\n",
      "Coefficient ranges:\n",
      "  Matrix [1e-01, 2e+05]\n",
      "  Cost   [1e+03, 3e+03]\n",
      "  Bound  [0e+00, 0e+00]\n",
      "  RHS    [6e+01, 2e+07]\n",
      "Presolving model\n",
      "5 rows, 4 cols, 20 nonzeros  0s\n",
      "5 rows, 4 cols, 20 nonzeros  0s\n",
      "Presolve : Reductions: rows 5(-0); columns 4(-0); elements 20(-0) - Not reduced\n",
      "Problem not reduced by presolve: solving the LP\n",
      "Using EKK dual simplex solver - serial\n",
      "  Iteration        Objective     Infeasibilities num(sum)\n",
      "          0    -1.2578114611e+02 Ph1: 4(14.302); Du: 4(125.781) 0s\n",
      "          3     3.5555555556e+05 Pr: 0(0) 0s\n",
      "Model status        : Optimal\n",
      "Simplex   iterations: 3\n",
      "Objective value     :  3.5555555556e+05\n",
      "P-D objective error :  0.0000000000e+00\n",
      "HiGHS run time      :          0.00\n",
      "===== (b) Resultado LP (continuo) =====\n",
      "Status LP: OPTIMAL\n",
      "x (continuas) = [37.03703703703704, 101.85185185185185, 46.29629629629629, 0.0]\n",
      "Z_LP (impuestos) = 355555.55555555556\n"
     ]
    },
    {
     "data": {
      "text/plain": [
       "4-element Vector{Float64}:\n",
       "  37.03703703703704\n",
       " 101.85185185185185\n",
       "  46.29629629629629\n",
       "   0.0"
      ]
     },
     "metadata": {},
     "output_type": "display_data"
    }
   ],
   "source": [
    "model_lp = Model(HiGHS.Optimizer)\n",
    "\n",
    "@variable(model_lp, x[1:4] >= 0)   # continuas\n",
    "\n",
    "@constraint(model_lp, sum(a[i]*x[i] for i in 1:4) <= A)\n",
    "@constraint(model_lp, sum(c[i]*x[i] for i in 1:4) <= F)\n",
    "@constraint(model_lp, x[3] + x[4] >= 0.25 * sum(x))\n",
    "@constraint(model_lp, x[1]        >= 0.20 * sum(x))\n",
    "@constraint(model_lp, x[2]        >= 0.10 * sum(x))\n",
    "\n",
    "@objective(model_lp, Max, sum(t[i]*x[i] for i in 1:4))\n",
    "\n",
    "optimize!(model_lp)\n",
    "\n",
    "lp_status = termination_status(model_lp)\n",
    "lp_x = value.(x)\n",
    "lp_Z = objective_value(model_lp)\n",
    "\n",
    "println(\"===== (b) Resultado LP (continuo) =====\")\n",
    "println(\"Status LP: \", lp_status)\n",
    "println(\"x (continuas) = \", lp_x)\n",
    "println(\"Z_LP (impuestos) = \", lp_Z)\n",
    "\n",
    "# Guardamos para cálculo de brecha\n",
    "x_lp = copy(lp_x)"
   ]
  },
  {
   "cell_type": "markdown",
   "id": "f410c830",
   "metadata": {},
   "source": [
    "## Variables enteras"
   ]
  },
  {
   "cell_type": "code",
   "execution_count": 15,
   "id": "39d3bfb2",
   "metadata": {},
   "outputs": [
    {
     "name": "stdout",
     "output_type": "stream",
     "text": [
      "Running HiGHS 1.11.0 (git hash: 364c83a51e): Copyright (c) 2025 HiGHS under MIT licence terms\n",
      "MIP  has 5 rows; 4 cols; 20 nonzeros; 4 integer variables (0 binary)\n",
      "Coefficient ranges:\n",
      "  Matrix [1e-01, 2e+05]\n",
      "  Cost   [1e+03, 3e+03]\n",
      "  Bound  [0e+00, 0e+00]\n",
      "  RHS    [6e+01, 2e+07]\n",
      "Presolving model\n",
      "5 rows, 4 cols, 20 nonzeros  0s\n",
      "5 rows, 4 cols, 20 nonzeros  0s\n",
      "Objective function is integral with scale 0.01\n",
      "\n",
      "Solving MIP model with:\n",
      "   5 rows\n",
      "   4 cols (0 binary, 4 integer, 0 implied int., 0 continuous, 0 domain fixed)\n",
      "   20 nonzeros\n",
      "\n",
      "Src: B => Branching; C => Central rounding; F => Feasibility pump; J => Feasibility jump;\n",
      "     H => Heuristic; L => Sub-MIP; P => Empty MIP; R => Randomized rounding; Z => ZI Round;\n",
      "     I => Shifting; S => Solve LP; T => Evaluate node; U => Unbounded; X => User solution;\n",
      "     z => Trivial zero; l => Trivial lower; u => Trivial upper; p => Trivial point\n",
      "\n",
      "        Nodes      |    B&B Tree     |            Objective Bounds              |  Dynamic Constraints |       Work      \n",
      "Src  Proc. InQueue |  Leaves   Expl. | BestBound       BestSol              Gap |   Cuts   InLp Confl. | LpIters     Time\n",
      "\n",
      " J       0       0         0   0.00%   inf             -0                 Large        0      0      0         0     0.0s\n",
      "         0       0         0   0.00%   355555.555556   -0                 Large        0      0      2         4     0.0s\n",
      " C       0       0         0   0.00%   355400          353100             0.65%        9      2      2         7     0.0s\n",
      " T       0       0         0   0.00%   355400          355400             0.00%        9      2      2         7     0.0s\n",
      "         1       0         1 100.00%   355400          355400             0.00%        8      2      2         7     0.0s\n",
      "\n",
      "Solving report\n",
      "  Status            Optimal\n",
      "  Primal bound      355400\n",
      "  Dual bound        355400\n",
      "  Gap               0% (tolerance: 0.01%)\n",
      "  P-D integral      4.30179769883e-07\n",
      "  Solution status   feasible\n",
      "                    355400 (objective)\n",
      "                    0 (bound viol.)\n",
      "                    8.18545231596e-12 (int. viol.)\n",
      "                    0 (row viol.)\n",
      "  Timing            0.02 (total)\n",
      "                    0.00 (presolve)\n",
      "                    0.00 (solve)\n",
      "                    0.00 (postsolve)\n",
      "  Max sub-MIP depth 0\n",
      "  Nodes             1\n",
      "  Repair LPs        0 (0 feasible; 0 iterations)\n",
      "  LP iterations     7 (total)\n",
      "                    0 (strong br.)\n",
      "                    3 (separation)\n",
      "                    0 (heuristics)\n",
      "\n",
      "===== (c) Resultado MIP (entero) =====\n",
      "Status MIP: OPTIMAL\n",
      "x (enteras) = [36.0000000000007, 99.0000000000014, 31.000000000008185, 13.999999999992516]\n",
      "Z_MIP (impuestos) = 355400.00000000006\n"
     ]
    }
   ],
   "source": [
    "model_mip = Model(HiGHS.Optimizer)\n",
    "\n",
    "@variable(model_mip, x[1:4] >= 0, Int)  # enteras\n",
    "\n",
    "@constraint(model_mip, sum(a[i]*x[i] for i in 1:4) <= A)\n",
    "@constraint(model_mip, sum(c[i]*x[i] for i in 1:4) <= F)\n",
    "@constraint(model_mip, x[3] + x[4] >= 0.25 * sum(x))\n",
    "@constraint(model_mip, x[1]        >= 0.20 * sum(x))\n",
    "@constraint(model_mip, x[2]        >= 0.10 * sum(x))\n",
    "\n",
    "@objective(model_mip, Max, sum(t[i]*x[i] for i in 1:4))\n",
    "\n",
    "optimize!(model_mip)\n",
    "\n",
    "mip_status = termination_status(model_mip)\n",
    "mip_x = value.(x)\n",
    "mip_Z = objective_value(model_mip)\n",
    "\n",
    "println(\"\\n===== (c) Resultado MIP (entero) =====\")\n",
    "println(\"Status MIP: \", mip_status)\n",
    "println(\"x (enteras) = \", mip_x)\n",
    "println(\"Z_MIP (impuestos) = \", mip_Z)"
   ]
  },
  {
   "cell_type": "markdown",
   "id": "a0326736",
   "metadata": {},
   "source": [
    "## Comparacion"
   ]
  },
  {
   "cell_type": "code",
   "execution_count": 16,
   "id": "49045eed",
   "metadata": {},
   "outputs": [
    {
     "name": "stdout",
     "output_type": "stream",
     "text": [
      "\n",
      "===== Comparación =====\n",
      "Brecha relativa = 0.043749999999985446 %\n",
      "Diferencia absoluta = 155.55555555550382\n",
      "\n",
      "Proporciones solución entera:\n",
      "Sencillas  (x1): 0.2000000000000008\n",
      "Dobles     (x2): 0.5499999999999993\n",
      "Triples    (x3): 0.172222222222265\n",
      "Cuádruples (x4): 0.07777777777773498\n",
      "Triples+Cuádruples: 0.25\n"
     ]
    }
   ],
   "source": [
    "gap_rel = (lp_Z - mip_Z)/lp_Z\n",
    "println(\"\\n===== Comparación =====\")\n",
    "println(\"Brecha relativa = $(gap_rel*100) %\")\n",
    "println(\"Diferencia absoluta = $(lp_Z - mip_Z)\")\n",
    "\n",
    "# (Opcional) Verificación de proporciones en la solución entera\n",
    "total_int = sum(mip_x)\n",
    "println(\"\\nProporciones solución entera:\")\n",
    "println(\"Sencillas  (x1): \", mip_x[1]/total_int)\n",
    "println(\"Dobles     (x2): \", mip_x[2]/total_int)\n",
    "println(\"Triples    (x3): \", mip_x[3]/total_int)\n",
    "println(\"Cuádruples (x4): \", mip_x[4]/total_int)\n",
    "println(\"Triples+Cuádruples: \", (mip_x[3]+mip_x[4])/total_int)"
   ]
  }
 ],
 "metadata": {
  "kernelspec": {
   "display_name": "Julia 1.11.6",
   "language": "julia",
   "name": "julia-1.11"
  },
  "language_info": {
   "file_extension": ".jl",
   "mimetype": "application/julia",
   "name": "julia",
   "version": "1.11.6"
  }
 },
 "nbformat": 4,
 "nbformat_minor": 5
}
